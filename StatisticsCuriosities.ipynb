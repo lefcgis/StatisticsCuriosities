{
 "cells": [
  {
   "cell_type": "code",
   "execution_count": 1,
   "metadata": {},
   "outputs": [],
   "source": [
    "# I. Corrección Bessel\n",
    "# Es curioso conocer porque diferentes librerías calculan la desviación estándar de manera diferente.\n",
    "\n",
    "import pandas as pd\n",
    "import numpy as np"
   ]
  },
  {
   "cell_type": "code",
   "execution_count": 3,
   "metadata": {},
   "outputs": [],
   "source": [
    "# 1. Tenemos esta lista de datos:\n",
    "\n",
    "datos = [9,8,7,6,5]"
   ]
  },
  {
   "cell_type": "code",
   "execution_count": 4,
   "metadata": {},
   "outputs": [
    {
     "name": "stderr",
     "output_type": "stream",
     "text": [
      "C:\\Users\\user\\AppData\\Local\\Temp\\ipykernel_9000\\448755093.py:4: FutureWarning: Calling float on a single element Series is deprecated and will raise a TypeError in the future. Use float(ser.iloc[0]) instead\n",
      "  float(df.std())\n"
     ]
    },
    {
     "data": {
      "text/plain": [
       "1.5811388300841898"
      ]
     },
     "execution_count": 4,
     "metadata": {},
     "output_type": "execute_result"
    }
   ],
   "source": [
    "# 2. Calculamos la desviación estándar utilizando Pandas\n",
    "\n",
    "df = pd.DataFrame(datos)\n",
    "float(df.std())"
   ]
  },
  {
   "cell_type": "code",
   "execution_count": 5,
   "metadata": {},
   "outputs": [
    {
     "data": {
      "text/plain": [
       "1.4142135623730951"
      ]
     },
     "execution_count": 5,
     "metadata": {},
     "output_type": "execute_result"
    }
   ],
   "source": [
    "# 3. Calculamos la desviación estándar utilizando NumPy\n",
    "arr = np.array(datos)\n",
    "np.std(arr)\n"
   ]
  },
  {
   "cell_type": "code",
   "execution_count": null,
   "metadata": {},
   "outputs": [],
   "source": [
    "# 4. Análisis:\n",
    "\n",
    "# Pandas considera los datos como una muestra de una población mayor, por lo que para obtener un resultado no sesgado utiliza n-1 en lugar de n como divisor.\n",
    "# De eso se trata la Correción Bessel.\n",
    "\n",
    "# Por el contrario, NumPy no hace dicha correción.\n",
    "\n",
    "# Sin embargo, no todo está decidido: Podemos devolver el mismo valor del resultado con un parámetro adicional:\n",
    "# ddof: Grados de libertad delta.\n",
    "\n"
   ]
  },
  {
   "cell_type": "code",
   "execution_count": 6,
   "metadata": {},
   "outputs": [
    {
     "name": "stderr",
     "output_type": "stream",
     "text": [
      "C:\\Users\\user\\AppData\\Local\\Temp\\ipykernel_9000\\1298964412.py:3: FutureWarning: Calling float on a single element Series is deprecated and will raise a TypeError in the future. Use float(ser.iloc[0]) instead\n",
      "  float(df.std(ddof=0))\n"
     ]
    },
    {
     "data": {
      "text/plain": [
       "1.4142135623730951"
      ]
     },
     "execution_count": 6,
     "metadata": {},
     "output_type": "execute_result"
    }
   ],
   "source": [
    "# 5. Para obtener los mismos valores con ambas librerías, solo tenemos que especificar el parámetro ddof en ambas tecnologías, cuyos valores son 1 (sesgada) y 0 (no sesgada).\n",
    "\n",
    "float(df.std(ddof=0))\n",
    "\n",
    "np.std(arr, ddof=0)"
   ]
  }
 ],
 "metadata": {
  "kernelspec": {
   "display_name": "Python 3",
   "language": "python",
   "name": "python3"
  },
  "language_info": {
   "codemirror_mode": {
    "name": "ipython",
    "version": 3
   },
   "file_extension": ".py",
   "mimetype": "text/x-python",
   "name": "python",
   "nbconvert_exporter": "python",
   "pygments_lexer": "ipython3",
   "version": "3.11.4"
  },
  "orig_nbformat": 4
 },
 "nbformat": 4,
 "nbformat_minor": 2
}
